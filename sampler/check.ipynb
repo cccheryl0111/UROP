{
 "cells": [
  {
   "cell_type": "code",
   "execution_count": 1,
   "metadata": {},
   "outputs": [
    {
     "name": "stderr",
     "output_type": "stream",
     "text": [
      "/var/folders/dz/lgsl3l_d7fv4z40yrx07rfz80000gn/T/ipykernel_8713/3288299399.py:11: FutureWarning: Downcasting behavior in `replace` is deprecated and will be removed in a future version. To retain the old behavior, explicitly call `result.infer_objects(copy=False)`. To opt-in to the future behavior, set `pd.set_option('future.no_silent_downcasting', True)`\n",
      "  y = df['diabetes'].replace({'Yes': 1, 'No': 0})\n"
     ]
    }
   ],
   "source": [
    "import scipy.stats as stats\n",
    "import pandas as pd\n",
    "import numpy as np\n",
    "\n",
    "# random varaible values and parameter values\n",
    "df = pd.read_csv('azdiabetes.csv')\n",
    "X = df[['npreg', 'bp', 'bmi', 'ped', 'age']]\n",
    "X = (X - X.mean()) / X.std()  # centering and scaling\n",
    "X['intercept'] = 1\n",
    "X = X.values\n",
    "y = df['diabetes'].replace({'Yes': 1, 'No': 0})"
   ]
  },
  {
   "cell_type": "code",
   "execution_count": 2,
   "metadata": {},
   "outputs": [
    {
     "data": {
      "text/plain": [
       "(array([[-1.55530869e-02,  0.00000000e+00,  5.82113028e-03,\n",
       "          7.78552911e-05,  1.25819572e-02,  6.11021673e-03],\n",
       "        [ 1.63577394e-02,  0.00000000e+00, -2.84980698e-03,\n",
       "          6.72179215e-03, -1.77842332e-02,  4.83343035e-03],\n",
       "        [ 5.07802556e-03,  0.00000000e+00, -7.91988830e-03,\n",
       "         -4.49727932e-04,  7.63337006e-03, -1.36354350e-03],\n",
       "        ...,\n",
       "        [-4.57718340e-03, -2.22908031e-03,  1.07198925e-02,\n",
       "         -1.73771449e-02, -1.52029028e-02, -7.67060150e-03],\n",
       "        [-2.27035877e-02, -2.22908031e-03, -1.23742546e-02,\n",
       "         -1.12865551e-02,  1.71796292e-02, -7.51429554e-03],\n",
       "        [-8.11624451e-04, -2.22908031e-03, -1.22373326e-02,\n",
       "          6.61252279e-04,  6.30461927e-03,  6.39030174e-03]]),\n",
       " array([[1., 0., 1., 1., 1., 1.],\n",
       "        [1., 0., 1., 1., 1., 1.],\n",
       "        [1., 0., 1., 1., 1., 1.],\n",
       "        ...,\n",
       "        [1., 0., 1., 1., 1., 1.],\n",
       "        [1., 0., 1., 1., 1., 1.],\n",
       "        [1., 0., 1., 1., 1., 1.]]))"
      ]
     },
     "execution_count": 2,
     "metadata": {},
     "output_type": "execute_result"
    }
   ],
   "source": [
    "from sampler import GibbsSampler\n",
    "\n",
    "g = len(y)\n",
    "nu0 = 2\n",
    "sigma02 = 1\n",
    "\n",
    "GibbsSampler(y, X, g, nu0, sigma02).run_sampler()\n"
   ]
  },
  {
   "cell_type": "code",
   "execution_count": 3,
   "metadata": {},
   "outputs": [
    {
     "data": {
      "text/plain": [
       "(array([[ 0.        ,  0.        ,  0.        ,  0.        ,  0.        ,\n",
       "          0.        ],\n",
       "        [ 0.        ,  0.        ,  0.        ,  0.        ,  0.        ,\n",
       "          0.        ],\n",
       "        [ 0.        ,  0.        ,  0.        ,  0.        ,  0.        ,\n",
       "          0.        ],\n",
       "        ...,\n",
       "        [ 0.16096555,  0.00689069,  0.0445901 ,  0.11594117, -0.10461319,\n",
       "         -0.15462605],\n",
       "        [ 0.16096555,  0.00689069,  0.0445901 ,  0.11594117, -0.10461319,\n",
       "         -0.15462605],\n",
       "        [ 0.16096555,  0.00689069,  0.0445901 ,  0.11594117, -0.10461319,\n",
       "         -0.15462605]]),\n",
       " array([[1., 0., 0., 0., 0., 0.],\n",
       "        [1., 1., 1., 1., 1., 1.],\n",
       "        [1., 0., 0., 0., 0., 0.],\n",
       "        ...,\n",
       "        [1., 0., 1., 1., 0., 1.],\n",
       "        [1., 1., 1., 1., 0., 1.],\n",
       "        [1., 1., 1., 1., 0., 1.]]))"
      ]
     },
     "execution_count": 3,
     "metadata": {},
     "output_type": "execute_result"
    }
   ],
   "source": [
    "from sampler import MetropolisHastingsSampler\n",
    "\n",
    "mean_beta = np.zeros(6)\n",
    "cov_beta = np.diag([16, 4, 4, 4, 4, 4])\n",
    "# Likelihood function\n",
    "def likelihood(x):\n",
    "    return np.exp(x) / (1 + np.exp(x))\n",
    "\n",
    "MetropolisHastingsSampler(y, X, likelihood, mean_beta, cov_beta).run_sampler()\n"
   ]
  },
  {
   "cell_type": "code",
   "execution_count": 4,
   "metadata": {},
   "outputs": [
    {
     "data": {
      "text/plain": [
       "(array([[ 0.22712514, -0.06775521,  0.56148966,  0.32521387,  0.33018098,\n",
       "         -0.66883394],\n",
       "        [ 0.44194924,  0.04152797,  0.54265602,  0.25375708,  0.39920844,\n",
       "         -0.75975442],\n",
       "        [ 0.3606103 , -0.12001215,  0.70802174,  0.33131481,  0.53634537,\n",
       "         -0.96630296],\n",
       "        ...,\n",
       "        [ 0.11662423, -0.14802876,  0.70269997,  0.536772  ,  0.49041515,\n",
       "         -0.77037734],\n",
       "        [ 0.12047153, -0.00917985,  0.65917242,  0.63967983,  0.47226946,\n",
       "         -0.77709628],\n",
       "        [ 0.22710861,  0.10525569,  0.53856861,  0.3361731 ,  0.51846628,\n",
       "         -0.71626507]]),\n",
       " array([[1., 0., 1., 1., 1., 1.],\n",
       "        [1., 1., 1., 1., 1., 1.],\n",
       "        [1., 0., 1., 1., 1., 1.],\n",
       "        ...,\n",
       "        [1., 0., 1., 1., 1., 1.],\n",
       "        [1., 0., 1., 1., 1., 1.],\n",
       "        [1., 1., 1., 1., 1., 1.]]))"
      ]
     },
     "execution_count": 4,
     "metadata": {},
     "output_type": "execute_result"
    }
   ],
   "source": [
    "from sampler import PolyaGamma\n",
    "\n",
    "PolyaGamma(y, X, likelihood, mean_beta, cov_beta).run_sampler()"
   ]
  },
  {
   "cell_type": "code",
   "execution_count": null,
   "metadata": {},
   "outputs": [],
   "source": []
  }
 ],
 "metadata": {
  "kernelspec": {
   "display_name": "PoP_venv",
   "language": "python",
   "name": "python3"
  },
  "language_info": {
   "codemirror_mode": {
    "name": "ipython",
    "version": 3
   },
   "file_extension": ".py",
   "mimetype": "text/x-python",
   "name": "python",
   "nbconvert_exporter": "python",
   "pygments_lexer": "ipython3",
   "version": "3.11.5"
  }
 },
 "nbformat": 4,
 "nbformat_minor": 2
}
